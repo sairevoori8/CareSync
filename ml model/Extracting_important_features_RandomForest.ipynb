{
  "metadata": {
    "kernelspec": {
      "language": "python",
      "display_name": "Python 3",
      "name": "python3"
    },
    "language_info": {
      "name": "python",
      "version": "3.10.12",
      "mimetype": "text/x-python",
      "codemirror_mode": {
        "name": "ipython",
        "version": 3
      },
      "pygments_lexer": "ipython3",
      "nbconvert_exporter": "python",
      "file_extension": ".py"
    },
    "kaggle": {
      "accelerator": "none",
      "dataSources": [
        {
          "sourceId": 1157702,
          "sourceType": "datasetVersion",
          "datasetId": 654897
        }
      ],
      "dockerImageVersionId": 30822,
      "isInternetEnabled": true,
      "language": "python",
      "sourceType": "notebook",
      "isGpuEnabled": false
    },
    "colab": {
      "name": "Extracting_important_features_RandomForest",
      "provenance": []
    }
  },
  "nbformat_minor": 0,
  "nbformat": 4,
  "cells": [
    {
      "source": [
        "# IMPORTANT: RUN THIS CELL IN ORDER TO IMPORT YOUR KAGGLE DATA SOURCES,\n",
        "# THEN FEEL FREE TO DELETE THIS CELL.\n",
        "# NOTE: THIS NOTEBOOK ENVIRONMENT DIFFERS FROM KAGGLE'S PYTHON\n",
        "# ENVIRONMENT SO THERE MAY BE MISSING LIBRARIES USED BY YOUR\n",
        "# NOTEBOOK.\n",
        "import kagglehub\n",
        "kaushil268_disease_prediction_using_machine_learning_path = kagglehub.dataset_download('kaushil268/disease-prediction-using-machine-learning')\n",
        "\n",
        "print('Data source import complete.')\n"
      ],
      "metadata": {
        "id": "j8tXcTvgcHlL"
      },
      "cell_type": "code",
      "outputs": [],
      "execution_count": null
    },
    {
      "cell_type": "code",
      "source": [
        "# This Python 3 environment comes with many helpful analytics libraries installed\n",
        "# It is defined by the kaggle/python Docker image: https://github.com/kaggle/docker-python\n",
        "# For example, here's several helpful packages to load\n",
        "\n",
        "import numpy as np # linear algebra\n",
        "import pandas as pd # data processing, CSV file I/O (e.g. pd.read_csv)\n",
        "\n",
        "# Input data files are available in the read-only \"../input/\" directory\n",
        "# For example, running this (by clicking run or pressing Shift+Enter) will list all files under the input directory\n",
        "\n",
        "import os\n",
        "for dirname, _, filenames in os.walk('/kaggle/input'):\n",
        "    for filename in filenames:\n",
        "        print(os.path.join(dirname, filename))\n",
        "\n",
        "# You can write up to 20GB to the current directory (/kaggle/working/) that gets preserved as output when you create a version using \"Save & Run All\"\n",
        "# You can also write temporary files to /kaggle/temp/, but they won't be saved outside of the current session"
      ],
      "metadata": {
        "_uuid": "8f2839f25d086af736a60e9eeb907d3b93b6e0e5",
        "_cell_guid": "b1076dfc-b9ad-4769-8c92-a6c4dae69d19",
        "trusted": true,
        "execution": {
          "iopub.status.busy": "2025-01-07T18:16:27.988142Z",
          "iopub.execute_input": "2025-01-07T18:16:27.988493Z",
          "iopub.status.idle": "2025-01-07T18:16:28.015219Z",
          "shell.execute_reply.started": "2025-01-07T18:16:27.988468Z",
          "shell.execute_reply": "2025-01-07T18:16:28.013716Z"
        },
        "id": "A5NuGuc5cHlN"
      },
      "outputs": [],
      "execution_count": null
    },
    {
      "cell_type": "code",
      "source": [
        "df = pd.read_csv(\"/kaggle/input/disease-prediction-using-machine-learning/Training.csv\")\n",
        "\n",
        ""
      ],
      "metadata": {
        "trusted": true,
        "execution": {
          "iopub.status.busy": "2025-01-07T18:16:28.322941Z",
          "iopub.execute_input": "2025-01-07T18:16:28.323294Z",
          "iopub.status.idle": "2025-01-07T18:16:28.38715Z",
          "shell.execute_reply.started": "2025-01-07T18:16:28.323269Z",
          "shell.execute_reply": "2025-01-07T18:16:28.386134Z"
        },
        "id": "4GNhDJdScHlN"
      },
      "outputs": [],
      "execution_count": null
    },
    {
      "cell_type": "code",
      "source": [
        "test = pd.read_csv(\"/kaggle/input/disease-prediction-using-machine-learning/Testing.csv\")\n"
      ],
      "metadata": {
        "trusted": true,
        "execution": {
          "iopub.status.busy": "2025-01-07T18:21:31.652053Z",
          "iopub.execute_input": "2025-01-07T18:21:31.652456Z",
          "iopub.status.idle": "2025-01-07T18:21:31.66441Z",
          "shell.execute_reply.started": "2025-01-07T18:21:31.652427Z",
          "shell.execute_reply": "2025-01-07T18:21:31.663047Z"
        },
        "id": "OiCufRGOcHlO"
      },
      "outputs": [],
      "execution_count": null
    },
    {
      "cell_type": "code",
      "source": [
        "test.head()"
      ],
      "metadata": {
        "trusted": true,
        "execution": {
          "iopub.status.busy": "2025-01-07T18:16:29.991665Z",
          "iopub.execute_input": "2025-01-07T18:16:29.992022Z",
          "iopub.status.idle": "2025-01-07T18:16:30.011836Z",
          "shell.execute_reply.started": "2025-01-07T18:16:29.991996Z",
          "shell.execute_reply": "2025-01-07T18:16:30.010461Z"
        },
        "id": "74ZDhts3cHlO"
      },
      "outputs": [],
      "execution_count": null
    },
    {
      "cell_type": "code",
      "source": [
        "df.head()"
      ],
      "metadata": {
        "trusted": true,
        "execution": {
          "iopub.status.busy": "2025-01-07T18:16:32.870111Z",
          "iopub.execute_input": "2025-01-07T18:16:32.870532Z",
          "iopub.status.idle": "2025-01-07T18:16:32.889271Z",
          "shell.execute_reply.started": "2025-01-07T18:16:32.870499Z",
          "shell.execute_reply": "2025-01-07T18:16:32.888083Z"
        },
        "id": "5pE2YhwucHlO"
      },
      "outputs": [],
      "execution_count": null
    },
    {
      "cell_type": "code",
      "source": [
        "df = df.drop(columns=[\"Unnamed: 133\"])"
      ],
      "metadata": {
        "trusted": true,
        "execution": {
          "iopub.status.busy": "2025-01-07T18:16:34.34337Z",
          "iopub.execute_input": "2025-01-07T18:16:34.343828Z",
          "iopub.status.idle": "2025-01-07T18:16:34.351125Z",
          "shell.execute_reply.started": "2025-01-07T18:16:34.343793Z",
          "shell.execute_reply": "2025-01-07T18:16:34.349875Z"
        },
        "id": "38yJmtALcHlO"
      },
      "outputs": [],
      "execution_count": null
    },
    {
      "cell_type": "code",
      "source": [
        "df.dtypes"
      ],
      "metadata": {
        "trusted": true,
        "execution": {
          "iopub.status.busy": "2025-01-07T18:16:36.131512Z",
          "iopub.execute_input": "2025-01-07T18:16:36.132008Z",
          "iopub.status.idle": "2025-01-07T18:16:36.141334Z",
          "shell.execute_reply.started": "2025-01-07T18:16:36.131974Z",
          "shell.execute_reply": "2025-01-07T18:16:36.140034Z"
        },
        "id": "IcSKcVY1cHlP"
      },
      "outputs": [],
      "execution_count": null
    },
    {
      "cell_type": "code",
      "source": [
        "df[\"prognosis\"].value_counts()"
      ],
      "metadata": {
        "trusted": true,
        "execution": {
          "iopub.status.busy": "2025-01-07T18:16:37.899512Z",
          "iopub.execute_input": "2025-01-07T18:16:37.899984Z",
          "iopub.status.idle": "2025-01-07T18:16:37.909966Z",
          "shell.execute_reply.started": "2025-01-07T18:16:37.899951Z",
          "shell.execute_reply": "2025-01-07T18:16:37.908698Z"
        },
        "id": "znI0r77lcHlP"
      },
      "outputs": [],
      "execution_count": null
    },
    {
      "cell_type": "code",
      "source": [
        "import pandas as pd\n",
        "from sklearn.ensemble import RandomForestClassifier\n",
        "from sklearn.model_selection import train_test_split\n",
        "from sklearn.preprocessing import LabelEncoder\n",
        "from sklearn.metrics import classification_report, accuracy_score\n",
        "import matplotlib.pyplot as plt\n",
        "\n",
        "\n",
        "X = df.drop(columns=[\"prognosis\"])\n",
        "y = df[\"prognosis\"]\n"
      ],
      "metadata": {
        "trusted": true,
        "execution": {
          "iopub.status.busy": "2025-01-07T18:16:41.127882Z",
          "iopub.execute_input": "2025-01-07T18:16:41.128286Z",
          "iopub.status.idle": "2025-01-07T18:16:41.140804Z",
          "shell.execute_reply.started": "2025-01-07T18:16:41.128256Z",
          "shell.execute_reply": "2025-01-07T18:16:41.139531Z"
        },
        "id": "o_D2LF_UcHlP"
      },
      "outputs": [],
      "execution_count": null
    },
    {
      "cell_type": "code",
      "source": [
        "le = LabelEncoder()\n",
        "y_encoded = le.fit_transform(y)\n"
      ],
      "metadata": {
        "trusted": true,
        "execution": {
          "iopub.status.busy": "2025-01-07T18:16:42.776078Z",
          "iopub.execute_input": "2025-01-07T18:16:42.776415Z",
          "iopub.status.idle": "2025-01-07T18:16:42.782275Z",
          "shell.execute_reply.started": "2025-01-07T18:16:42.776388Z",
          "shell.execute_reply": "2025-01-07T18:16:42.78118Z"
        },
        "id": "_Lj3Z7V_cHlP"
      },
      "outputs": [],
      "execution_count": null
    },
    {
      "cell_type": "code",
      "source": [
        "rf = RandomForestClassifier(n_estimators=100, random_state=42)\n",
        "rf.fit(X, y_encoded)\n",
        "\n"
      ],
      "metadata": {
        "trusted": true,
        "execution": {
          "iopub.status.busy": "2025-01-07T18:16:44.502772Z",
          "iopub.execute_input": "2025-01-07T18:16:44.503139Z",
          "iopub.status.idle": "2025-01-07T18:16:45.051938Z",
          "shell.execute_reply.started": "2025-01-07T18:16:44.503112Z",
          "shell.execute_reply": "2025-01-07T18:16:45.050706Z"
        },
        "id": "oc3TMUR1cHlP"
      },
      "outputs": [],
      "execution_count": null
    },
    {
      "cell_type": "code",
      "source": [
        "importances = rf.feature_importances_\n",
        "feature_names = X.columns\n",
        "\n",
        "importance_df = pd.DataFrame({\"Feature\": feature_names, \"Importance\": importances})\n",
        "importance_df = importance_df.sort_values(by=\"Importance\", ascending=False)\n",
        "print(importance_df.head(50))\n"
      ],
      "metadata": {
        "trusted": true,
        "execution": {
          "iopub.status.busy": "2025-01-07T18:16:56.035948Z",
          "iopub.execute_input": "2025-01-07T18:16:56.036375Z",
          "iopub.status.idle": "2025-01-07T18:16:56.055252Z",
          "shell.execute_reply.started": "2025-01-07T18:16:56.036345Z",
          "shell.execute_reply": "2025-01-07T18:16:56.053744Z"
        },
        "id": "02yrdHP9cHlP"
      },
      "outputs": [],
      "execution_count": null
    },
    {
      "cell_type": "code",
      "source": [
        "plt.figure(figsize=(10, 15))\n",
        "plt.barh(importance_df[\"Feature\"][:50], importance_df[\"Importance\"][:50], color=\"skyblue\")\n",
        "plt.xlabel(\"Importance Score\")\n",
        "plt.ylabel(\"Features\")\n",
        "plt.title(\"Top 50 Important Features\")\n",
        "plt.gca().invert_yaxis()\n",
        "plt.show()\n"
      ],
      "metadata": {
        "trusted": true,
        "execution": {
          "iopub.status.busy": "2025-01-07T18:17:00.162335Z",
          "iopub.execute_input": "2025-01-07T18:17:00.162726Z",
          "iopub.status.idle": "2025-01-07T18:17:00.816875Z",
          "shell.execute_reply.started": "2025-01-07T18:17:00.162693Z",
          "shell.execute_reply": "2025-01-07T18:17:00.815324Z"
        },
        "id": "_OI-5F35cHlP"
      },
      "outputs": [],
      "execution_count": null
    },
    {
      "cell_type": "code",
      "source": [
        "\n",
        "\n",
        "top_50_features = importance_df[\"Feature\"].iloc[:50].values\n",
        "\n",
        "X = df[top_50_features]\n",
        "y = df[\"prognosis\"]\n",
        "\n"
      ],
      "metadata": {
        "trusted": true,
        "execution": {
          "iopub.status.busy": "2025-01-07T18:17:05.13538Z",
          "iopub.execute_input": "2025-01-07T18:17:05.135806Z",
          "iopub.status.idle": "2025-01-07T18:17:05.143727Z",
          "shell.execute_reply.started": "2025-01-07T18:17:05.135775Z",
          "shell.execute_reply": "2025-01-07T18:17:05.142463Z"
        },
        "id": "GLb4o2nHcHlQ"
      },
      "outputs": [],
      "execution_count": null
    },
    {
      "cell_type": "code",
      "source": [
        "le = LabelEncoder()\n",
        "y_encoded = le.fit_transform(y)\n",
        "\n",
        "X_train, X_test, y_train, y_test = train_test_split(X, y_encoded, test_size=0.2, random_state=42)\n"
      ],
      "metadata": {
        "trusted": true,
        "execution": {
          "iopub.status.busy": "2025-01-07T18:17:08.112045Z",
          "iopub.execute_input": "2025-01-07T18:17:08.112457Z",
          "iopub.status.idle": "2025-01-07T18:17:08.123404Z",
          "shell.execute_reply.started": "2025-01-07T18:17:08.112427Z",
          "shell.execute_reply": "2025-01-07T18:17:08.122021Z"
        },
        "id": "Rkv24xRhcHlQ"
      },
      "outputs": [],
      "execution_count": null
    },
    {
      "cell_type": "code",
      "source": [
        "rf = RandomForestClassifier(n_estimators=40, random_state=42)\n",
        "rf.fit(X_train, y_train)\n",
        "\n",
        "rf_predictions = rf.predict(X_test)\n",
        "print(\"Random Forest Classification Report:\")\n",
        "print(classification_report(y_test, rf_predictions, target_names=le.classes_))\n",
        "print(f\"Random Forest Accuracy: {accuracy_score(y_test, rf_predictions):.2f}\")"
      ],
      "metadata": {
        "trusted": true,
        "execution": {
          "iopub.status.busy": "2025-01-07T18:17:30.852931Z",
          "iopub.execute_input": "2025-01-07T18:17:30.853346Z",
          "iopub.status.idle": "2025-01-07T18:17:31.041052Z",
          "shell.execute_reply.started": "2025-01-07T18:17:30.853316Z",
          "shell.execute_reply": "2025-01-07T18:17:31.039762Z"
        },
        "id": "w85yJYx-cHlQ"
      },
      "outputs": [],
      "execution_count": null
    },
    {
      "cell_type": "code",
      "source": [
        "from sklearn.model_selection import cross_val_score\n",
        "scores = cross_val_score(rf, X, y_encoded, cv=5, scoring='accuracy')\n",
        "print(\"Cross-Validation Accuracy Scores:\", scores)\n",
        "print(\"Mean Accuracy:\", scores.mean())\n"
      ],
      "metadata": {
        "trusted": true,
        "execution": {
          "iopub.status.busy": "2025-01-07T18:17:33.780887Z",
          "iopub.execute_input": "2025-01-07T18:17:33.7813Z",
          "iopub.status.idle": "2025-01-07T18:17:34.60514Z",
          "shell.execute_reply.started": "2025-01-07T18:17:33.781268Z",
          "shell.execute_reply": "2025-01-07T18:17:34.603539Z"
        },
        "id": "nfjQ249BcHlQ"
      },
      "outputs": [],
      "execution_count": null
    },
    {
      "cell_type": "code",
      "source": [
        "import pandas as pd\n",
        "from sklearn.preprocessing import LabelEncoder\n",
        "\n",
        "\n",
        "test2 = test[top_50_features]\n",
        "\n",
        "predictions_encoded = rf.predict(test2)\n",
        "predictions = le.inverse_transform(predictions_encoded)\n",
        "\n",
        "count = 0\n",
        "for i, disease in enumerate(predictions):\n",
        "    print(f\"Row {i+1}: Predicted Disease - {disease}\")\n",
        "    if count == 10:\n",
        "        break\n",
        "    count += 1\n"
      ],
      "metadata": {
        "trusted": true,
        "execution": {
          "iopub.status.busy": "2025-01-07T18:22:16.751454Z",
          "iopub.execute_input": "2025-01-07T18:22:16.75187Z",
          "iopub.status.idle": "2025-01-07T18:22:16.770181Z",
          "shell.execute_reply.started": "2025-01-07T18:22:16.751841Z",
          "shell.execute_reply": "2025-01-07T18:22:16.768946Z"
        },
        "id": "ieYRsFsHcHlQ"
      },
      "outputs": [],
      "execution_count": null
    },
    {
      "cell_type": "code",
      "source": [
        "test[\"prognosis\"].head(10)"
      ],
      "metadata": {
        "trusted": true,
        "execution": {
          "iopub.status.busy": "2025-01-07T18:22:19.463124Z",
          "iopub.execute_input": "2025-01-07T18:22:19.463515Z",
          "iopub.status.idle": "2025-01-07T18:22:19.472108Z",
          "shell.execute_reply.started": "2025-01-07T18:22:19.463487Z",
          "shell.execute_reply": "2025-01-07T18:22:19.470714Z"
        },
        "id": "KMz6Y-IocHlQ"
      },
      "outputs": [],
      "execution_count": null
    },
    {
      "cell_type": "code",
      "source": [
        "predictions = le.inverse_transform(predictions_encoded)\n",
        "test['predicted_prognosis'] = predictions\n",
        "\n",
        "mismatches = (test['prognosis'] != test['predicted_prognosis'])\n",
        "mismatch_count = mismatches.sum()\n",
        "\n"
      ],
      "metadata": {
        "trusted": true,
        "execution": {
          "iopub.status.busy": "2025-01-07T18:24:54.21441Z",
          "iopub.execute_input": "2025-01-07T18:24:54.214881Z",
          "iopub.status.idle": "2025-01-07T18:24:54.222969Z",
          "shell.execute_reply.started": "2025-01-07T18:24:54.214845Z",
          "shell.execute_reply": "2025-01-07T18:24:54.221751Z"
        },
        "id": "_B9JRJ2_cHlQ"
      },
      "outputs": [],
      "execution_count": null
    },
    {
      "cell_type": "code",
      "source": [
        "print(test[['prognosis', 'predicted_prognosis']].head(10))\n",
        "print(f\"Total mismatches: {mismatch_count} out of {len(test)} samples.\")"
      ],
      "metadata": {
        "trusted": true,
        "execution": {
          "iopub.status.busy": "2025-01-07T18:24:56.65117Z",
          "iopub.execute_input": "2025-01-07T18:24:56.651548Z",
          "iopub.status.idle": "2025-01-07T18:24:56.660856Z",
          "shell.execute_reply.started": "2025-01-07T18:24:56.651516Z",
          "shell.execute_reply": "2025-01-07T18:24:56.659519Z"
        },
        "id": "Oc1b_-TqcHlQ"
      },
      "outputs": [],
      "execution_count": null
    },
    {
      "cell_type": "code",
      "source": [],
      "metadata": {
        "trusted": true,
        "id": "NNf5xl37cHlQ"
      },
      "outputs": [],
      "execution_count": null
    }
  ]
}